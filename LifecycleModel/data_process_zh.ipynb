{
 "cells": [
  {
   "cell_type": "code",
   "execution_count": 1,
   "id": "f248beea",
   "metadata": {},
   "outputs": [
    {
     "ename": "ModuleNotFoundError",
     "evalue": "No module named 'cudf'",
     "output_type": "error",
     "traceback": [
      "\u001b[0;31m---------------------------------------------------------------------------\u001b[0m",
      "\u001b[0;31mModuleNotFoundError\u001b[0m                       Traceback (most recent call last)",
      "Input \u001b[0;32mIn [1]\u001b[0m, in \u001b[0;36m<cell line: 4>\u001b[0;34m()\u001b[0m\n\u001b[1;32m      2\u001b[0m \u001b[38;5;28;01mimport\u001b[39;00m \u001b[38;5;21;01mmatplotlib\u001b[39;00m\u001b[38;5;21;01m.\u001b[39;00m\u001b[38;5;21;01mpyplot\u001b[39;00m \u001b[38;5;28;01mas\u001b[39;00m \u001b[38;5;21;01mplt\u001b[39;00m\n\u001b[1;32m      3\u001b[0m \u001b[38;5;28;01mimport\u001b[39;00m \u001b[38;5;21;01mnumpy\u001b[39;00m \u001b[38;5;28;01mas\u001b[39;00m \u001b[38;5;21;01mnp\u001b[39;00m\n\u001b[0;32m----> 4\u001b[0m \u001b[38;5;28;01mimport\u001b[39;00m \u001b[38;5;21;01mcudf\u001b[39;00m \u001b[38;5;28;01mas\u001b[39;00m \u001b[38;5;21;01mcd\u001b[39;00m\n\u001b[1;32m      5\u001b[0m \u001b[38;5;28;01mimport\u001b[39;00m \u001b[38;5;21;01mcupy\u001b[39;00m\n\u001b[1;32m      6\u001b[0m \u001b[38;5;28;01mimport\u001b[39;00m \u001b[38;5;21;01mtime\u001b[39;00m\n",
      "\u001b[0;31mModuleNotFoundError\u001b[0m: No module named 'cudf'"
     ]
    }
   ],
   "source": [
    "import pandas as pd\n",
    "import matplotlib.pyplot as plt\n",
    "import numpy as np\n",
    "import cudf as cd\n",
    "import cupy\n",
    "import time\n",
    "\n",
    "pd.set_option('display.max_columns', None)\n",
    "# pd.set_option('display.max_rows', None)\n",
    "pd.set_option('display.width', 1000)\n",
    "pd.set_option('display.float_format', lambda ff: '%.2f' % ff)\n",
    "\n",
    "chfs = {2011: {}, 2013: {}, 2015: {}, 2017: {}, 2019: {}}\n",
    "cupy.cuda.Device(2).use()"
   ]
  },
  {
   "cell_type": "code",
   "execution_count": 2,
   "id": "940b921d",
   "metadata": {},
   "outputs": [
    {
     "ename": "NameError",
     "evalue": "name 'time' is not defined",
     "output_type": "error",
     "traceback": [
      "\u001b[0;31m---------------------------------------------------------------------------\u001b[0m",
      "\u001b[0;31mNameError\u001b[0m                                 Traceback (most recent call last)",
      "Input \u001b[0;32mIn [2]\u001b[0m, in \u001b[0;36m<cell line: 1>\u001b[0;34m()\u001b[0m\n\u001b[0;32m----> 1\u001b[0m t \u001b[38;5;241m=\u001b[39m \u001b[43mtime\u001b[49m\u001b[38;5;241m.\u001b[39mtime()\n\u001b[1;32m      3\u001b[0m \u001b[38;5;28;01mdef\u001b[39;00m \u001b[38;5;21mte\u001b[39m():\n\u001b[1;32m      4\u001b[0m     \u001b[38;5;28mprint\u001b[39m(\u001b[38;5;124m\"\u001b[39m\u001b[38;5;124mspent\u001b[39m\u001b[38;5;124m\"\u001b[39m,(time\u001b[38;5;241m.\u001b[39mtime() \u001b[38;5;241m-\u001b[39m t), \u001b[38;5;124m\"\u001b[39m\u001b[38;5;124ms\u001b[39m\u001b[38;5;124m\"\u001b[39m)\n",
      "\u001b[0;31mNameError\u001b[0m: name 'time' is not defined"
     ]
    }
   ],
   "source": [
    "t = time.time()\n",
    "    \n",
    "def te():\n",
    "    print(\"spent\",(time.time() - t), \"s\")"
   ]
  },
  {
   "cell_type": "code",
   "execution_count": 1,
   "id": "98b3e40f",
   "metadata": {},
   "outputs": [
    {
     "data": {
      "text/plain": [
       "'\\n计算其他的个人收入\\n转移性收入的中的个人收入\\n2019:\\n    养老金 f1005\\n    个人月均年金 f1028\\n    个人住房公积金收入 f4011\\n    保险 f4011 f6119 f6204 f6503 f3004a_imp f3003a_imp\\n\\n2017:\\n    养老金 f1005\\n    月均年金 f1028\\n    个人住房公积金 f4011\\n    保险 1019 f2025 f6119 f6204 f6503 \\n\\n2015:\\n    \\n    \\n   \\n'"
      ]
     },
     "execution_count": 1,
     "metadata": {},
     "output_type": "execute_result"
    }
   ],
   "source": [
    "\n",
    "# 计算除工资收入之外的其他\n",
    "\n",
    "'''\n",
    "计算其他的个人收入\n",
    "转移性收入的中的个人收入\n",
    "2019:\n",
    "    养老金 f1005\n",
    "    个人月均年金 f1028\n",
    "    个人住房公积金收入 f4011\n",
    "    保险 f4011 f6119 f6204 f6503 f3004a_imp f3003a_imp\n",
    "\n",
    "2017:\n",
    "    养老金 f1005\n",
    "    月均年金 f1028\n",
    "    个人住房公积金 f4011\n",
    "    保险 1019 f2025 f6119 f6204 f6503 \n",
    "\n",
    "2015:\n",
    "    \n",
    "    \n",
    "2013 \n",
    "\n",
    "2011：没有养老金\n",
    "'''\n",
    "#  自己拍拍脑子给出的一个可解释性：这些转移性收入随时间的变化没有labor收入变化剧烈\n",
    "\n",
    "\n",
    "\n",
    "\n"
   ]
  },
  {
   "cell_type": "code",
   "execution_count": null,
   "id": "a17ca40b",
   "metadata": {},
   "outputs": [],
   "source": [
    "'''\n",
    "    加入其他一些特征\n",
    "        家庭成员所在地区\n",
    "        职业\n",
    "        补贴：\n",
    "\n",
    "'''"
   ]
  },
  {
   "cell_type": "markdown",
   "id": "a7b20e42",
   "metadata": {},
   "source": [
    "# 2011年数据"
   ]
  },
  {
   "cell_type": "code",
   "execution_count": 3,
   "id": "91eae137",
   "metadata": {},
   "outputs": [],
   "source": [
    "# #预处理 dta转csv\n",
    "# pd.read_stata(\"./chfs2011/ind.dta\").fillna(0).to_csv(\"./chfs2011/ind.csv\",index=False)\n",
    "# pd.read_stata(\"./chfs2011/hh.dta\").fillna(0).to_csv(\"./chfs2011/hh.csv\",index=False)\n",
    "# pd.read_stata(\"./chfs2011/master.dta\").fillna(0).to_csv(\"./chfs2011/master.csv\",index=False)"
   ]
  },
  {
   "cell_type": "markdown",
   "id": "513c7d4e",
   "metadata": {},
   "source": [
    "## 读取数据"
   ]
  },
  {
   "cell_type": "code",
   "execution_count": 4,
   "id": "8f0641b3",
   "metadata": {},
   "outputs": [
    {
     "data": {
      "text/plain": [
       "(29324, 251)"
      ]
     },
     "execution_count": 4,
     "metadata": {},
     "output_type": "execute_result"
    }
   ],
   "source": [
    "chfs[2011]['ind'] = cd.read_csv(\"./chfs2011/ind.csv\")\n",
    "chfs[2011]['ind'].shape"
   ]
  },
  {
   "cell_type": "code",
   "execution_count": 5,
   "id": "1f344a45",
   "metadata": {
    "scrolled": true
   },
   "outputs": [
    {
     "data": {
      "text/plain": [
       "(8438, 1272)"
      ]
     },
     "execution_count": 5,
     "metadata": {},
     "output_type": "execute_result"
    }
   ],
   "source": [
    "chfs[2011]['hh'] = cd.read_csv(\"./chfs2011/hh.csv\")\n",
    "chfs[2011]['hh'].shape"
   ]
  },
  {
   "cell_type": "markdown",
   "id": "cd7e9b61",
   "metadata": {},
   "source": [
    "## 拼接两个表"
   ]
  },
  {
   "cell_type": "code",
   "execution_count": 6,
   "id": "26d22e5c",
   "metadata": {},
   "outputs": [
    {
     "data": {
      "text/plain": [
       "(29324, 1522)"
      ]
     },
     "execution_count": 6,
     "metadata": {},
     "output_type": "execute_result"
    }
   ],
   "source": [
    "chfs[2011]['ind_hh'] = cd.merge(chfs[2011]['ind'], chfs[2011]['hh'], how='left', on='hhid')\n",
    "del chfs[2011]['ind']\n",
    "del chfs[2011]['hh']\n",
    "chfs[2011]['ind_hh'].shape"
   ]
  },
  {
   "cell_type": "markdown",
   "id": "01b63eca",
   "metadata": {},
   "source": [
    "## 计算各种各样的收入"
   ]
  },
  {
   "cell_type": "markdown",
   "id": "a4d98ea9",
   "metadata": {},
   "source": [
    "## 计算 工资性收入，家庭成员，"
   ]
  },
  {
   "cell_type": "code",
   "execution_count": 7,
   "id": "132e5d30",
   "metadata": {},
   "outputs": [],
   "source": [
    "# labor_inc 是指个人税后工资薪金收入，即为劳动性收入(包括调查问卷中提到的最主要的工作以及第二职业工作税后工资薪金收入总和)。\n",
    "chfs[2011]['ind_hh'] = chfs[2011]['ind_hh'].assign(age=2011-chfs[2011]['ind_hh'].a2005) #计算age\n",
    "\n",
    "dict_mem_cnt = chfs[2011]['ind_hh'].groupby('hhid').size().to_pandas().to_dict() #计算家庭成员个数\n",
    "chfs[2011]['ind_hh']['mem_cnt'] = chfs[2011]['ind_hh']['hhid'].map(dict_mem_cnt)\n",
    "\n",
    "dict_labor_inc = chfs[2011]['ind_hh'].groupby('hhid')['labor_inc'].agg('sum').to_pandas().to_dict() #计算家庭总labor收入\n",
    "chfs[2011]['ind_hh']['labor_inc_sum'] = chfs[2011]['ind_hh']['hhid'].map(dict_labor_inc)\n",
    "\n",
    "dict_labor_inc_mem_cnt = chfs[2011]['ind_hh'].groupby('hhid')['labor_inc'].count().to_pandas().to_dict() #计算家庭有labor收入的人数\n",
    "chfs[2011]['ind_hh']['labor_inc_mem_cnt'] = chfs[2011]['ind_hh']['hhid'].map(dict_labor_inc_mem_cnt)\n",
    "\n",
    "#性别\n",
    "chfs[2011]['ind_hh']['male'] = chfs[2011]['ind_hh']['a2003'].map({1: 1}).fillna(0) #男\n",
    "chfs[2011]['ind_hh']['female'] = chfs[2011]['ind_hh']['a2003'].map({2: 1}).fillna(0) #女\n",
    "\n",
    "#学历\n",
    "chfs[2011]['ind_hh']['el_non'] = chfs[2011]['ind_hh']['a2012'].map({1: 1}).fillna(0) #没上过学\n",
    "chfs[2011]['ind_hh']['el_pri'] = chfs[2011]['ind_hh']['a2012'].map({2: 1}).fillna(0) #小学\n",
    "chfs[2011]['ind_hh']['el_jun'] = chfs[2011]['ind_hh']['a2012'].map({3: 1}).fillna(0) #初中\n",
    "chfs[2011]['ind_hh']['el_sen'] = chfs[2011]['ind_hh']['a2012'].map({4: 1}).fillna(0) #高中\n",
    "chfs[2011]['ind_hh']['el_ts'] = chfs[2011]['ind_hh']['a2012'].map({5: 1}).fillna(0) #中专\n",
    "chfs[2011]['ind_hh']['el_jc'] = chfs[2011]['ind_hh']['a2012'].map({6: 1}).fillna(0) #大专\n",
    "chfs[2011]['ind_hh']['el_bac'] = chfs[2011]['ind_hh']['a2012'].map({7: 1}).fillna(0) #本科\n",
    "chfs[2011]['ind_hh']['el_mas'] = chfs[2011]['ind_hh']['a2012'].map({8: 1}).fillna(0) #硕士\n",
    "chfs[2011]['ind_hh']['el_phd'] = chfs[2011]['ind_hh']['a2012'].map({9: 1}).fillna(0) #博士\n",
    "\n",
    "#车\n",
    "chfs[2011]['ind_hh']['c_car'] = chfs[2011]['ind_hh']['c7001'].map({1: 1}).fillna(0) #汽车\n",
    "chfs[2011]['ind_hh']['c_car_n'] = chfs[2011]['ind_hh']['c7002'] #汽车数量\n",
    "chfs[2011]['ind_hh']['c_car2'] = chfs[2011]['ind_hh']['c7053'].map({1: 1}).fillna(0) #拖拉机等\n"
   ]
  },
  {
   "cell_type": "markdown",
   "id": "13457b90",
   "metadata": {},
   "source": [
    "## 处理数据column成统一可读性列名"
   ]
  },
  {
   "cell_type": "code",
   "execution_count": 8,
   "id": "39991e2e",
   "metadata": {
    "scrolled": false
   },
   "outputs": [],
   "source": [
    "#c8001: 相机1、电视2、洗衣机3、冰箱4、空调5、电脑6、音响7、热水器8、家具9、卫星接收器10、乐器11\n",
    "chfs[2011]['ind_hh']['c_cam'] = chfs[2011]['ind_hh']['c8001_1_mc'] \n",
    "chfs[2011]['ind_hh']['c_tv'] = chfs[2011]['ind_hh']['c8001_2_mc'] \n",
    "chfs[2011]['ind_hh']['c_wm'] = chfs[2011]['ind_hh']['c8001_3_mc'] \n",
    "chfs[2011]['ind_hh']['c_ref'] = chfs[2011]['ind_hh']['c8001_4_mc'] \n",
    "chfs[2011]['ind_hh']['c_ac'] = chfs[2011]['ind_hh']['c8001_5_mc'] \n",
    "chfs[2011]['ind_hh']['c_cp'] = chfs[2011]['ind_hh']['c8001_6_mc'] \n",
    "chfs[2011]['ind_hh']['c_aud'] = chfs[2011]['ind_hh']['c8001_7_mc'] \n",
    "chfs[2011]['ind_hh']['c_wh'] = chfs[2011]['ind_hh']['c8001_8_mc'] \n",
    "chfs[2011]['ind_hh']['c_fur'] = chfs[2011]['ind_hh']['c8001_9_mc'] \n",
    "chfs[2011]['ind_hh']['c_sr'] = chfs[2011]['ind_hh']['c8001_10_mc'] \n",
    "chfs[2011]['ind_hh']['c_mi'] = chfs[2011]['ind_hh']['c8001_11_mc'] \n",
    "\n",
    "#c8003: 其它资产如飞机、金银首饰 c8004_5_mc: 金银首饰\n",
    "chfs[2011]['ind_hh']['c_oa'] = chfs[2011]['ind_hh']['c8003'].map({1: 1}).fillna(0)\n",
    "chfs[2011]['ind_hh']['c_je'] = chfs[2011]['ind_hh']['c8004_5_mc']\n",
    "\n",
    "#吃饭消费：g1001 月*12\n",
    "chfs[2011]['ind_hh']['g_eat'] = chfs[2011]['ind_hh']['g1001']*12\n",
    "#日用品支出：g1006 月*12\n",
    "chfs[2011]['ind_hh']['g_dn'] = chfs[2011]['ind_hh']['g1006']*12\n",
    "#雇佣保姆小时工等支出：g1007 月*12\n",
    "chfs[2011]['ind_hh']['g_hw'] = chfs[2011]['ind_hh']['g1007']*12\n",
    "#本地交通费：g1008 月*12\n",
    "chfs[2011]['ind_hh']['g_tp'] = chfs[2011]['ind_hh']['g1008']*12\n",
    "#电话网络通信费：g1009 月*12\n",
    "chfs[2011]['ind_hh']['g_comm'] = chfs[2011]['ind_hh']['g1009']*12\n",
    "#文化娱乐：g1010 月*12\n",
    "chfs[2011]['ind_hh']['g_et'] = chfs[2011]['ind_hh']['g1010']*12\n",
    "#水电燃气+暖气：g1005月*12+g1013年\n",
    "chfs[2011]['ind_hh'] = chfs[2011]['ind_hh'].assign(g_sdrm=chfs[2011]['ind_hh']['g1005']*12+chfs[2011]['ind_hh']['g1013'])\n",
    "#买衣服：g1011年+g1011a年+g1011b年\n",
    "chfs[2011]['ind_hh'] = chfs[2011]['ind_hh'].assign(g_clo=chfs[2011]['ind_hh']['g1011']+chfs[2011]['ind_hh']['g1011a']+chfs[2011]['ind_hh']['g1011b'])\n",
    "#教育培训支出：g1016 年\n",
    "chfs[2011]['ind_hh']['g_edu'] = chfs[2011]['ind_hh']['g1016']\n",
    "#旅游探亲支出：g1018_imp 年\n",
    "chfs[2011]['ind_hh']['g_trav'] = chfs[2011]['ind_hh']['g1018_imp']\n",
    "#仅保健支出：g1019 年\n",
    "chfs[2011]['ind_hh']['g_med'] = chfs[2011]['ind_hh']['g1019']\n",
    "\n",
    "#d1105_imp: 活期存款 d2104_imp: 定期存款\n",
    "chfs[2011]['ind_hh']['d_dd'] = chfs[2011]['ind_hh']['d1105_imp']\n",
    "chfs[2011]['ind_hh']['d_fd'] = chfs[2011]['ind_hh']['d2104_imp']\n",
    "#债券：d4103_(1~5)_imp\n",
    "for i in range(1,6):\n",
    "    chfs[2011]['ind_hh']['d_bond_'+str(i)] = chfs[2011]['ind_hh']['d4103_'+str(i)+'_imp']\n",
    "#债券总\n",
    "chfs[2011]['ind_hh'] = chfs[2011]['ind_hh'].assign(d_bond=chfs[2011]['ind_hh']['d_bond_1']+chfs[2011]['ind_hh']['d_bond_2']+chfs[2011]['ind_hh']['d_bond_3']+chfs[2011]['ind_hh']['d_bond_4']+chfs[2011]['ind_hh']['d_bond_5'])\n",
    "#银行理财/互联网理财：d7106a_imp\n",
    "chfs[2011]['ind_hh']['d_fm'] = chfs[2011]['ind_hh']['d7106a_imp']\n",
    "#黄金/贵金属：d9103_imp\n",
    "chfs[2011]['ind_hh']['d_gold'] = chfs[2011]['ind_hh']['d9103_imp']\n",
    "#现金：k1101_imp\n",
    "chfs[2011]['ind_hh']['d_cash'] = chfs[2011]['ind_hh']['k1101_imp']\n",
    "\n",
    "chfs[2011]['ind_hh']['total_income'] = chfs[2011]['ind_hh']['hh_income']\n",
    "\n",
    "chfs[2011]['ind_hh']['year'] = 2011"
   ]
  },
  {
   "cell_type": "markdown",
   "id": "aaf6ed41",
   "metadata": {},
   "source": [
    "## 输出表"
   ]
  },
  {
   "cell_type": "code",
   "execution_count": 9,
   "id": "85e9e2e1",
   "metadata": {},
   "outputs": [],
   "source": [
    "chfs[2011]['ind_hh'][['hhid','year','age','male','female', \\\n",
    "                      'el_non','el_pri','el_jun','el_sen','el_ts','el_jc','el_bac','el_mas','el_phd', \\\n",
    "                      'c_car','c_car_n','c_car2', \\\n",
    "                      'c_cam','c_tv','c_wm','c_ref','c_ac','c_cp','c_aud','c_wh','c_fur','c_sr','c_mi', \\\n",
    "                      'c_oa','c_je', \\\n",
    "                      'd_dd','d_fd','d_bond','d_fm','d_gold','d_cash', \\\n",
    "                      'g_eat','g_sdrm','g_dn','g_hw','g_tp','g_comm','g_et', \\\n",
    "                      'g_clo','g_edu','g_trav','g_med', \\\n",
    "                      'mem_cnt','labor_inc','labor_inc_sum','labor_inc_mem_cnt','total_income']]\n",
    "#                       'mem_cnt','labor_inc','labor_inc_sum','labor_inc_mem_cnt','total_income']].to_csv(\"./chfs2011/final.csv\",index=False)"
   ]
  },
  {
   "cell_type": "markdown",
   "id": "3cf0ebfe",
   "metadata": {},
   "source": [
    "# 2013年数据"
   ]
  },
  {
   "cell_type": "code",
   "execution_count": 7,
   "id": "27265396",
   "metadata": {},
   "outputs": [],
   "source": [
    "# #预处理 dta转csv\n",
    "# pd.read_stata(\"./chfs2013/ind.dta\").fillna(0).to_csv(\"./chfs2013/ind.csv\",index=False)\n",
    "# pd.read_stata(\"./chfs2013/hh.dta\").fillna(0).to_csv(\"./chfs2013/hh.csv\",index=False)\n",
    "# pd.read_stata(\"./chfs2013/master.dta\").fillna(0).to_csv(\"./chfs2013/master.csv\",index=False)"
   ]
  },
  {
   "cell_type": "markdown",
   "id": "8610d645",
   "metadata": {},
   "source": [
    "## 读取数据"
   ]
  },
  {
   "cell_type": "code",
   "execution_count": 10,
   "id": "2c360cb7",
   "metadata": {},
   "outputs": [
    {
     "data": {
      "text/plain": [
       "(97906, 332)"
      ]
     },
     "execution_count": 10,
     "metadata": {},
     "output_type": "execute_result"
    }
   ],
   "source": [
    "chfs[2013]['ind'] = pd.read_stata(\"./chfs2013/ind.dta\").fillna(0)\n",
    "chfs[2013]['ind'].shape"
   ]
  },
  {
   "cell_type": "code",
   "execution_count": 11,
   "id": "36610729",
   "metadata": {},
   "outputs": [
    {
     "data": {
      "text/plain": [
       "(28141, 2184)"
      ]
     },
     "execution_count": 11,
     "metadata": {},
     "output_type": "execute_result"
    }
   ],
   "source": [
    "chfs[2013]['hh'] = pd.read_stata(\"./chfs2013/hh.dta\").fillna(0)\n",
    "chfs[2013]['hh'].shape"
   ]
  },
  {
   "cell_type": "code",
   "execution_count": 12,
   "id": "c5110001",
   "metadata": {},
   "outputs": [],
   "source": [
    "def get_hhid(x):\n",
    "    if x['hhid_2011'] =='':\n",
    "        return x['hhid_2013']\n",
    "    else:\n",
    "        return x['hhid_2011']\n",
    "\n",
    "#填充hhid，因为2013年新数据没有hhid_2011的列，所以整合一下统一使用hhid\n",
    "chfs[2013]['ind'].loc[:,'hhid'] = chfs[2013]['ind'].apply(get_hhid, axis=1)\n",
    "chfs[2013]['ind'] = cd.from_pandas(chfs[2013]['ind'])\n",
    "chfs[2013]['hh'].loc[:,'hhid'] = chfs[2013]['hh'].apply(get_hhid, axis=1)\n",
    "chfs[2013]['hh'] = cd.from_pandas(chfs[2013]['hh'])"
   ]
  },
  {
   "cell_type": "markdown",
   "id": "c5bfc7a4",
   "metadata": {},
   "source": [
    "## 拼接两个表"
   ]
  },
  {
   "cell_type": "code",
   "execution_count": 13,
   "id": "95efa532",
   "metadata": {},
   "outputs": [
    {
     "data": {
      "text/plain": [
       "(97906, 2517)"
      ]
     },
     "execution_count": 13,
     "metadata": {},
     "output_type": "execute_result"
    }
   ],
   "source": [
    "chfs[2013]['ind_hh'] = cd.merge(chfs[2013]['ind'], chfs[2013]['hh'], how='left', on='hhid')\n",
    "del chfs[2013]['ind']\n",
    "del chfs[2013]['hh']\n",
    "chfs[2013]['ind_hh'].shape"
   ]
  },
  {
   "cell_type": "markdown",
   "id": "019f6dd9",
   "metadata": {},
   "source": [
    "## 计算表中未有的参数值"
   ]
  },
  {
   "cell_type": "code",
   "execution_count": 14,
   "id": "3a77f0f0",
   "metadata": {},
   "outputs": [],
   "source": [
    "chfs[2013]['ind_hh'] = chfs[2013]['ind_hh'].assign(age=2013-chfs[2013]['ind_hh'].a2005) #计算age\n",
    "\n",
    "dict_mem_cnt = chfs[2013]['ind_hh'].groupby('hhid').size().to_pandas().to_dict() #计算家庭成员个数\n",
    "chfs[2013]['ind_hh']['mem_cnt'] = chfs[2013]['ind_hh']['hhid'].map(dict_mem_cnt)\n",
    "\n",
    "chfs[2013]['ind_hh']['labor_inc'] = chfs[2013]['ind_hh']['a3020_imp']+chfs[2013]['ind_hh']['a3022_imp']+chfs[2013]['ind_hh']['a3023_imp']+chfs[2013]['ind_hh']['a3036_imp']\n",
    "dict_labor_inc = chfs[2013]['ind_hh'].groupby('hhid')['labor_inc'].agg('sum').to_pandas().to_dict() #计算家庭总labor收入\n",
    "chfs[2013]['ind_hh']['labor_inc_sum'] = chfs[2013]['ind_hh']['hhid'].map(dict_labor_inc)\n",
    "\n",
    "dict_labor_inc_mem_cnt = chfs[2013]['ind_hh'].groupby('hhid')['labor_inc'].count().to_pandas().to_dict() #计算家庭有labor收入的人数\n",
    "chfs[2013]['ind_hh']['labor_inc_mem_cnt'] = chfs[2013]['ind_hh']['hhid'].map(dict_labor_inc_mem_cnt)\n",
    "\n",
    "#性别\n",
    "chfs[2013]['ind_hh']['male'] = chfs[2013]['ind_hh']['a2003'].map({1: 1}).fillna(0) #男\n",
    "chfs[2013]['ind_hh']['female'] = chfs[2013]['ind_hh']['a2003'].map({2: 1}).fillna(0) #女\n",
    "\n",
    "#学历\n",
    "chfs[2013]['ind_hh']['el_non'] = chfs[2013]['ind_hh']['a2012'].map({1: 1}).fillna(0) #没上过学\n",
    "chfs[2013]['ind_hh']['el_pri'] = chfs[2013]['ind_hh']['a2012'].map({2: 1}).fillna(0) #小学\n",
    "chfs[2013]['ind_hh']['el_jun'] = chfs[2013]['ind_hh']['a2012'].map({3: 1}).fillna(0) #初中\n",
    "chfs[2013]['ind_hh']['el_sen'] = chfs[2013]['ind_hh']['a2012'].map({4: 1}).fillna(0) #高中\n",
    "chfs[2013]['ind_hh']['el_ts'] = chfs[2013]['ind_hh']['a2012'].map({5: 1}).fillna(0) #中专 \n",
    "chfs[2013]['ind_hh']['el_jc'] = chfs[2013]['ind_hh']['a2012'].map({6: 1}).fillna(0) #大专\n",
    "chfs[2013]['ind_hh']['el_bac'] = chfs[2013]['ind_hh']['a2012'].map({7: 1}).fillna(0) #本科\n",
    "chfs[2013]['ind_hh']['el_mas'] = chfs[2013]['ind_hh']['a2012'].map({8: 1}).fillna(0) #硕士\n",
    "chfs[2013]['ind_hh']['el_phd'] = chfs[2013]['ind_hh']['a2012'].map({9: 1}).fillna(0) #博士\n",
    "\n",
    "#车\n",
    "chfs[2013]['ind_hh']['c_car'] = chfs[2013]['ind_hh']['c7001'].map({1: 1}).fillna(0) #汽车\n",
    "chfs[2013]['ind_hh']['c_car_n'] = chfs[2013]['ind_hh']['c7002'] #汽车数量\n",
    "chfs[2013]['ind_hh']['c_car2'] = chfs[2013]['ind_hh']['c7058'].map({0: 0}).fillna(1) #电瓶车等，c7058判断\n",
    "\n",
    "chfs[2013]['ind_hh']['year'] = 2013"
   ]
  },
  {
   "cell_type": "markdown",
   "id": "a3cb0e2a",
   "metadata": {},
   "source": [
    "## 处理数据column成统一可读性列名"
   ]
  },
  {
   "cell_type": "code",
   "execution_count": 15,
   "id": "b27a412b",
   "metadata": {
    "scrolled": false
   },
   "outputs": [],
   "source": [
    "#c8001: 相机1、电视2、洗衣机3、冰箱4、空调5、电脑6、音响7、热水器8、家具9、卫星接收器10、乐器11、手机12\n",
    "chfs[2013]['ind_hh']['c_cam'] = chfs[2013]['ind_hh']['c8001_1_mc'] \n",
    "chfs[2013]['ind_hh']['c_tv'] = chfs[2013]['ind_hh']['c8001_2_mc'] \n",
    "chfs[2013]['ind_hh']['c_wm'] = chfs[2013]['ind_hh']['c8001_3_mc'] \n",
    "chfs[2013]['ind_hh']['c_ref'] = chfs[2013]['ind_hh']['c8001_4_mc'] \n",
    "chfs[2013]['ind_hh']['c_ac'] = chfs[2013]['ind_hh']['c8001_5_mc'] \n",
    "chfs[2013]['ind_hh']['c_cp'] = chfs[2013]['ind_hh']['c8001_6_mc'] \n",
    "chfs[2013]['ind_hh']['c_aud'] = chfs[2013]['ind_hh']['c8001_7_mc'] \n",
    "chfs[2013]['ind_hh']['c_wh'] = chfs[2013]['ind_hh']['c8001_8_mc'] \n",
    "chfs[2013]['ind_hh']['c_fur'] = chfs[2013]['ind_hh']['c8001_9_mc'] \n",
    "chfs[2013]['ind_hh']['c_sr'] = chfs[2013]['ind_hh']['c8001_10_mc'] \n",
    "chfs[2013]['ind_hh']['c_mi'] = chfs[2013]['ind_hh']['c8001_11_mc'] \n",
    "chfs[2013]['ind_hh']['c_mobi'] = chfs[2013]['ind_hh']['c8001_12_mc'] \n",
    "\n",
    "#c8003: 其它资产如飞机、金银首饰 c8004_5_mc: 金银首饰\n",
    "chfs[2013]['ind_hh']['c_oa'] = chfs[2013]['ind_hh']['c8003'].map({1: 1}).fillna(0)\n",
    "chfs[2013]['ind_hh']['c_je'] = chfs[2013]['ind_hh']['c8004_5_mc']\n",
    "\n",
    "#吃饭消费：g1001_imp 月*12\n",
    "chfs[2013]['ind_hh']['g_eat'] = chfs[2013]['ind_hh']['g1001_imp']*12\n",
    "#日用品支出：g1006_imp 月*12\n",
    "chfs[2013]['ind_hh']['g_dn'] = chfs[2013]['ind_hh']['g1006_imp']*12\n",
    "#雇佣保姆小时工等支出：g1007_imp 月*12\n",
    "chfs[2013]['ind_hh']['g_hw'] = chfs[2013]['ind_hh']['g1007_imp']*12\n",
    "#本地交通费：g1008_imp 月*12\n",
    "chfs[2013]['ind_hh']['g_tp'] = chfs[2013]['ind_hh']['g1008_imp']*12\n",
    "#电话网络通信费：g1009_imp 月*12\n",
    "chfs[2013]['ind_hh']['g_comm'] = chfs[2013]['ind_hh']['g1009_imp']*12\n",
    "#文化娱乐：g1010_imp 月*12\n",
    "chfs[2013]['ind_hh']['g_et'] = chfs[2013]['ind_hh']['g1010_imp']*12\n",
    "#水电燃气+暖气：g1005_imp月*12+g1013_imp年\n",
    "chfs[2013]['ind_hh'] = chfs[2013]['ind_hh'].assign(g_sdrm=chfs[2013]['ind_hh']['g1005_imp']*12+chfs[2013]['ind_hh']['g1013_imp'])\n",
    "#买衣服：g1011_imp 年\n",
    "chfs[2013]['ind_hh']['g_clo'] = chfs[2013]['ind_hh']['g1011_imp']\n",
    "#教育培训支出：g1016_imp 年\n",
    "chfs[2013]['ind_hh']['g_edu'] = chfs[2013]['ind_hh']['g1016_imp']\n",
    "#旅游探亲支出：g1018_imp 年\n",
    "chfs[2013]['ind_hh']['g_trav'] = chfs[2013]['ind_hh']['g1018_imp']\n",
    "#仅保健支出：g1019_imp 年\n",
    "chfs[2013]['ind_hh']['g_med'] = chfs[2013]['ind_hh']['g1019_imp']\n",
    "\n",
    "#d1105_imp: 活期存款 d2104_imp: 定期存款\n",
    "chfs[2013]['ind_hh']['d_dd'] = chfs[2013]['ind_hh']['d1105_imp']\n",
    "chfs[2013]['ind_hh']['d_fd'] = chfs[2013]['ind_hh']['d2104_imp']\n",
    "#债券：d4103_(1~5)_imp\n",
    "for i in range(1,6):\n",
    "    chfs[2013]['ind_hh']['d_bond_'+str(i)] = chfs[2013]['ind_hh']['d4103_'+str(i)+'_imp']\n",
    "#债券总\n",
    "chfs[2013]['ind_hh'] = chfs[2013]['ind_hh'].assign(d_bond=chfs[2013]['ind_hh']['d_bond_1']+chfs[2013]['ind_hh']['d_bond_2']+chfs[2013]['ind_hh']['d_bond_3']+chfs[2013]['ind_hh']['d_bond_4']+chfs[2013]['ind_hh']['d_bond_5'])\n",
    "#银行理财/互联网理财：d7106a_imp\n",
    "chfs[2013]['ind_hh']['d_fm'] = chfs[2013]['ind_hh']['d7106a_imp']\n",
    "#黄金/贵金属：d9103_imp\n",
    "chfs[2013]['ind_hh']['d_gold'] = chfs[2013]['ind_hh']['d9103_imp']\n",
    "#现金：k1101_imp\n",
    "chfs[2013]['ind_hh']['d_cash'] = chfs[2013]['ind_hh']['k1101_imp']\n",
    "\n",
    "chfs[2013]['ind_hh']['total_income'] = chfs[2013]['ind_hh']['total_income_imp']\n",
    "\n",
    "chfs[2013]['ind_hh']['year'] = 2013"
   ]
  },
  {
   "cell_type": "markdown",
   "id": "3a851966",
   "metadata": {},
   "source": [
    "## 输出表"
   ]
  },
  {
   "cell_type": "code",
   "execution_count": 16,
   "id": "71d022b2",
   "metadata": {
    "scrolled": false
   },
   "outputs": [],
   "source": [
    "chfs[2013]['ind_hh'][['hhid','year','age','male','female', \\\n",
    "                      'el_non','el_pri','el_jun','el_sen','el_ts','el_jc','el_bac','el_mas','el_phd', \\\n",
    "                      'c_car','c_car_n','c_car2', \\\n",
    "                      'c_cam','c_tv','c_wm','c_ref','c_ac','c_cp','c_aud','c_wh','c_fur','c_sr','c_mi','c_mobi', \\\n",
    "                      'c_oa','c_je', \\\n",
    "                      'd_dd','d_fd','d_bond','d_fm','d_gold','d_cash', \\\n",
    "                      'g_eat','g_sdrm','g_dn','g_hw','g_tp','g_comm','g_et', \\\n",
    "                      'g_clo','g_edu','g_trav','g_med', \\\n",
    "                      'mem_cnt','labor_inc','labor_inc_sum','labor_inc_mem_cnt','total_income']]\n",
    "#                       'mem_cnt','labor_inc','labor_inc_sum','labor_inc_mem_cnt','total_income']].to_csv(\"./chfs2013/final.csv\",index=False)"
   ]
  },
  {
   "cell_type": "markdown",
   "id": "2c6a8378",
   "metadata": {},
   "source": [
    "# 2015年数据"
   ]
  },
  {
   "cell_type": "code",
   "execution_count": 9,
   "id": "294012df",
   "metadata": {},
   "outputs": [],
   "source": [
    "# #预处理 dta转csv\n",
    "# pd.read_stata(\"./chfs2015/ind.dta\").fillna(0).to_csv(\"./chfs2015/ind.csv\",index=False)\n",
    "# pd.read_stata(\"./chfs2015/hh.dta\").fillna(0).to_csv(\"./chfs2015/hh.csv\",index=False)\n",
    "# pd.read_stata(\"./chfs2015/master.dta\").fillna(0).to_csv(\"./chfs2015/master.csv\",index=False)"
   ]
  },
  {
   "cell_type": "markdown",
   "id": "e0ec89ca",
   "metadata": {},
   "source": [
    "## 读取数据"
   ]
  },
  {
   "cell_type": "code",
   "execution_count": 17,
   "id": "854c7056",
   "metadata": {},
   "outputs": [
    {
     "data": {
      "text/plain": [
       "(133183, 309)"
      ]
     },
     "execution_count": 17,
     "metadata": {},
     "output_type": "execute_result"
    }
   ],
   "source": [
    "chfs[2015]['ind'] = pd.read_csv(\"./chfs2015/ind.csv\", low_memory=False)\n",
    "chfs[2015]['ind'].shape"
   ]
  },
  {
   "cell_type": "code",
   "execution_count": 18,
   "id": "78ddd160",
   "metadata": {},
   "outputs": [
    {
     "data": {
      "text/plain": [
       "(37289, 3011)"
      ]
     },
     "execution_count": 18,
     "metadata": {},
     "output_type": "execute_result"
    }
   ],
   "source": [
    "chfs[2015]['hh'] = cd.read_csv(\"./chfs2015/hh.csv\")\n",
    "chfs[2015]['hh'].shape"
   ]
  },
  {
   "cell_type": "code",
   "execution_count": 19,
   "id": "d7f8f924",
   "metadata": {},
   "outputs": [],
   "source": [
    "#2015需要计算插值 a3020:主要工作工资，a3022:主要工作奖金，a3023:主要工作补贴，a3036:第二份工作工资\n",
    "row_names = ['a3020','a3022','a3023','a3036']\n",
    "its = {'a3020': [5000,10000,20000,50000,100000,200000,300000,500000,1000000,2000000,5000000], \n",
    "       'a3022': [2500,5000,10000,20000,50000,100000,150000,200000,300000,500000,1000000],\n",
    "       'a3023': [2500,5000,10000,20000,50000,100000,150000,200000,300000,500000,1000000],\n",
    "       'a3036': [2500,5000,10000,20000,50000,100000,150000,200000,300000,500000,1000000]}\n",
    "row_name = ''\n",
    "def f_labor_inc_it(row):\n",
    "    if row[row_name+'it'] == 0:\n",
    "        return row[row_name]\n",
    "    else:\n",
    "        return its[row_name][int(row[row_name+'it'])-1]\n",
    "for x in row_names:\n",
    "    row_name = x\n",
    "    chfs[2015]['ind']['labor_inc_'+x] = chfs[2015]['ind'].apply(f_labor_inc_it, axis=1)\n",
    "# chfs[2015]['ind'][['a3020','a3020it','a3022','a3022it','a3023','a3023it','a3036','a3036it','labor_inc_a3020','labor_inc_a3022','labor_inc_a3023','labor_inc_a3036']][:60]"
   ]
  },
  {
   "cell_type": "code",
   "execution_count": 20,
   "id": "22901783",
   "metadata": {},
   "outputs": [],
   "source": [
    "chfs[2015]['ind'] = cd.from_pandas(chfs[2015]['ind'])"
   ]
  },
  {
   "cell_type": "markdown",
   "id": "f120c675",
   "metadata": {},
   "source": [
    "## 拼接两个表"
   ]
  },
  {
   "cell_type": "code",
   "execution_count": 21,
   "id": "60f78805",
   "metadata": {},
   "outputs": [
    {
     "data": {
      "text/plain": [
       "(133183, 3323)"
      ]
     },
     "execution_count": 21,
     "metadata": {},
     "output_type": "execute_result"
    }
   ],
   "source": [
    "chfs[2015]['ind_hh'] = cd.merge(chfs[2015]['ind'], chfs[2015]['hh'], how='left', on='hhid')\n",
    "chfs[2015]['ind_hh']\n",
    "del chfs[2015]['ind']\n",
    "del chfs[2015]['hh']\n",
    "chfs[2015]['ind_hh'].shape"
   ]
  },
  {
   "cell_type": "markdown",
   "id": "7a30d2c1",
   "metadata": {},
   "source": [
    "#"
   ]
  },
  {
   "cell_type": "markdown",
   "id": "4d355726",
   "metadata": {},
   "source": [
    "## 计算表中未有的参数值"
   ]
  },
  {
   "cell_type": "code",
   "execution_count": 22,
   "id": "85a36c2b",
   "metadata": {},
   "outputs": [],
   "source": [
    "chfs[2015]['ind_hh'] = chfs[2015]['ind_hh'].assign(age=2015-chfs[2015]['ind_hh'].a2005) #计算age\n",
    "\n",
    "dict_mem_cnt = chfs[2015]['ind_hh'].groupby('hhid').size().to_pandas().to_dict() #计算家庭成员个数\n",
    "chfs[2015]['ind_hh']['mem_cnt'] = chfs[2015]['ind_hh']['hhid'].map(dict_mem_cnt)\n",
    "\n",
    "chfs[2015]['ind_hh']['labor_inc'] = chfs[2015]['ind_hh']['labor_inc_a3020']+chfs[2015]['ind_hh']['labor_inc_a3022']+chfs[2015]['ind_hh']['labor_inc_a3023']+chfs[2015]['ind_hh']['labor_inc_a3036']\n",
    "dict_labor_inc = chfs[2015]['ind_hh'].groupby('hhid')['labor_inc'].agg('sum').to_pandas().to_dict() #计算家庭总labor收入\n",
    "chfs[2015]['ind_hh']['labor_inc_sum'] = chfs[2015]['ind_hh']['hhid'].map(dict_labor_inc)\n",
    "\n",
    "dict_labor_inc_mem_cnt = chfs[2015]['ind_hh'].groupby('hhid')['labor_inc'].count().to_pandas().to_dict() #计算家庭有labor收入的人数\n",
    "chfs[2015]['ind_hh']['labor_inc_mem_cnt'] = chfs[2015]['ind_hh']['hhid'].map(dict_labor_inc_mem_cnt)\n",
    "\n",
    "#性别\n",
    "chfs[2015]['ind_hh']['male'] = chfs[2015]['ind_hh']['a2003'].map({1: 1}).fillna(0) #男\n",
    "chfs[2015]['ind_hh']['female'] = chfs[2015]['ind_hh']['a2003'].map({2: 1}).fillna(0) #女\n",
    "\n",
    "#学历\n",
    "chfs[2015]['ind_hh']['el_non'] = chfs[2015]['ind_hh']['a2012'].map({1: 1}).fillna(0) #没上过学\n",
    "chfs[2015]['ind_hh']['el_pri'] = chfs[2015]['ind_hh']['a2012'].map({2: 1}).fillna(0) #小学\n",
    "chfs[2015]['ind_hh']['el_jun'] = chfs[2015]['ind_hh']['a2012'].map({3: 1}).fillna(0) #初中\n",
    "chfs[2015]['ind_hh']['el_sen'] = chfs[2015]['ind_hh']['a2012'].map({4: 1}).fillna(0) #高中\n",
    "chfs[2015]['ind_hh']['el_ts'] = chfs[2015]['ind_hh']['a2012'].map({5: 1}).fillna(0) #中专 \n",
    "chfs[2015]['ind_hh']['el_jc'] = chfs[2015]['ind_hh']['a2012'].map({6: 1}).fillna(0) #大专\n",
    "chfs[2015]['ind_hh']['el_bac'] = chfs[2015]['ind_hh']['a2012'].map({7: 1}).fillna(0) #本科\n",
    "chfs[2015]['ind_hh']['el_mas'] = chfs[2015]['ind_hh']['a2012'].map({8: 1}).fillna(0) #硕士\n",
    "chfs[2015]['ind_hh']['el_phd'] = chfs[2015]['ind_hh']['a2012'].map({9: 1}).fillna(0) #博士\n",
    "\n",
    "#车\n",
    "chfs[2015]['ind_hh']['c_car'] = chfs[2015]['ind_hh']['c7001'].map({1: 1}).fillna(0) #汽车\n",
    "chfs[2015]['ind_hh']['c_car_n'] = chfs[2015]['ind_hh']['c7002'] #汽车数量\n",
    "chfs[2015]['ind_hh']['c_car2'] = chfs[2015]['ind_hh']['c7058'].map({0: 0}).fillna(1) #拖拉机等\n",
    "\n",
    "chfs[2015]['ind_hh']['year'] = 2015"
   ]
  },
  {
   "cell_type": "markdown",
   "id": "cc90d915",
   "metadata": {},
   "source": [
    "## 处理数据column成统一可读性列名"
   ]
  },
  {
   "cell_type": "code",
   "execution_count": 23,
   "id": "70ced12f",
   "metadata": {
    "scrolled": false
   },
   "outputs": [],
   "source": [
    "#c8001: 相机1、电视2、洗衣机3、冰箱4、空调5、电脑6、音响7、热水器8、家具9、卫星接收器10、乐器12、手机13\n",
    "chfs[2015]['ind_hh']['c_cam'] = chfs[2015]['ind_hh']['c8001_1_mc'] \n",
    "chfs[2015]['ind_hh']['c_tv'] = chfs[2015]['ind_hh']['c8001_2_mc'] \n",
    "chfs[2015]['ind_hh']['c_wm'] = chfs[2015]['ind_hh']['c8001_3_mc'] \n",
    "chfs[2015]['ind_hh']['c_ref'] = chfs[2015]['ind_hh']['c8001_4_mc'] \n",
    "chfs[2015]['ind_hh']['c_ac'] = chfs[2015]['ind_hh']['c8001_5_mc'] \n",
    "chfs[2015]['ind_hh']['c_cp'] = chfs[2015]['ind_hh']['c8001_6_mc'] \n",
    "chfs[2015]['ind_hh']['c_aud'] = chfs[2015]['ind_hh']['c8001_7_mc'] \n",
    "chfs[2015]['ind_hh']['c_wh'] = chfs[2015]['ind_hh']['c8001_8_mc'] \n",
    "chfs[2015]['ind_hh']['c_fur'] = chfs[2015]['ind_hh']['c8001_9_mc'] \n",
    "chfs[2015]['ind_hh']['c_sr'] = chfs[2015]['ind_hh']['c8001_10_mc'] \n",
    "chfs[2015]['ind_hh']['c_mi'] = chfs[2015]['ind_hh']['c8001_12_mc'] \n",
    "chfs[2015]['ind_hh']['c_mobi'] = chfs[2015]['ind_hh']['c8001_13_mc'] \n",
    "\n",
    "#c8004_7_mc: 没有其它资产 c8004_5_mc: 金银首饰\n",
    "chfs[2015]['ind_hh']['c_oa'] = chfs[2015]['ind_hh']['c8004_7_mc'].map({1: 0}).fillna(1)\n",
    "chfs[2015]['ind_hh']['c_je'] = chfs[2015]['ind_hh']['c8004_5_mc']\n",
    "\n",
    "#吃饭消费：g1001_imp 月*12\n",
    "chfs[2015]['ind_hh']['g_eat'] = chfs[2015]['ind_hh']['g1001_imp']*12\n",
    "#日用品支出：g1006_imp 月*12\n",
    "chfs[2015]['ind_hh']['g_dn'] = chfs[2015]['ind_hh']['g1006_imp']*12\n",
    "#雇佣保姆小时工等支出：g1007_imp 月*12\n",
    "chfs[2015]['ind_hh']['g_hw'] = chfs[2015]['ind_hh']['g1007_imp']*12\n",
    "#本地交通费：g1008_imp 月*12\n",
    "chfs[2015]['ind_hh']['g_tp'] = chfs[2015]['ind_hh']['g1008_imp']*12\n",
    "#电话网络通信费：g1009_imp 月*12\n",
    "chfs[2015]['ind_hh']['g_comm'] = chfs[2015]['ind_hh']['g1009_imp']*12\n",
    "#文化娱乐：g1010_imp 月*12\n",
    "chfs[2015]['ind_hh']['g_et'] = chfs[2015]['ind_hh']['g1010_imp']*12\n",
    "#水电燃气+暖气：g1005_imp月*12+g1013_imp年\n",
    "chfs[2015]['ind_hh'] = chfs[2015]['ind_hh'].assign(g_sdrm=chfs[2015]['ind_hh']['g1005_imp']*12+chfs[2015]['ind_hh']['g1013_imp'])\n",
    "#买衣服：g1011_imp 年\n",
    "chfs[2015]['ind_hh']['g_clo'] = chfs[2015]['ind_hh']['g1011_imp']\n",
    "#教育培训支出：g1016_imp 年\n",
    "chfs[2015]['ind_hh']['g_edu'] = chfs[2015]['ind_hh']['g1016_imp']\n",
    "#旅游探亲支出：g1018_imp 年\n",
    "chfs[2015]['ind_hh']['g_trav'] = chfs[2015]['ind_hh']['g1018_imp']\n",
    "#医疗保健支出：g1019_imp 年\n",
    "chfs[2015]['ind_hh']['g_med'] = chfs[2015]['ind_hh']['g1019b_imp']\n",
    "\n",
    "#d1105_imp: 活期存款 d2104_imp: 定期存款\n",
    "chfs[2015]['ind_hh']['d_dd'] = chfs[2015]['ind_hh']['d1105_imp']\n",
    "chfs[2015]['ind_hh']['d_fd'] = chfs[2015]['ind_hh']['d2104_imp']\n",
    "#债券：d4103_(1~5)_imp\n",
    "for i in range(1,6):\n",
    "    chfs[2015]['ind_hh']['d_bond_'+str(i)] = chfs[2015]['ind_hh']['d4103_'+str(i)+'_imp']\n",
    "#债券总\n",
    "chfs[2015]['ind_hh'] = chfs[2015]['ind_hh'].assign(d_bond=chfs[2015]['ind_hh']['d_bond_1']+chfs[2015]['ind_hh']['d_bond_2']+chfs[2015]['ind_hh']['d_bond_3']+chfs[2015]['ind_hh']['d_bond_4']+chfs[2015]['ind_hh']['d_bond_5'])\n",
    "#银行理财/互联网理财：d7106a_imp\n",
    "chfs[2015]['ind_hh']['d_fm'] = chfs[2015]['ind_hh']['d7106a_imp']\n",
    "#黄金/贵金属：d9100aa_imp\n",
    "chfs[2015]['ind_hh']['d_gold'] = chfs[2015]['ind_hh']['d9100aa_imp']\n",
    "#现金：k1101_imp\n",
    "chfs[2015]['ind_hh']['d_cash'] = chfs[2015]['ind_hh']['k1101_imp']\n",
    "\n",
    "chfs[2015]['ind_hh']['total_income'] = chfs[2015]['ind_hh']['total_income_imp']\n",
    "\n",
    "chfs[2015]['ind_hh']['year'] = 2015"
   ]
  },
  {
   "cell_type": "markdown",
   "id": "2a70597d",
   "metadata": {},
   "source": [
    "## 输出表"
   ]
  },
  {
   "cell_type": "code",
   "execution_count": 24,
   "id": "39e2c714",
   "metadata": {
    "scrolled": true
   },
   "outputs": [],
   "source": [
    "chfs[2015]['ind_hh'][['hhid','year','age','male','female', \\\n",
    "                      'el_non','el_pri','el_jun','el_sen','el_ts','el_jc','el_bac','el_mas','el_phd', \\\n",
    "                      'c_car','c_car_n','c_car2', \\\n",
    "                      'c_cam','c_tv','c_wm','c_ref','c_ac','c_cp','c_aud','c_wh','c_fur','c_sr','c_mi','c_mobi', \\\n",
    "                      'c_oa','c_je', \\\n",
    "                      'd_dd','d_fd','d_bond','d_fm','d_gold','d_cash', \\\n",
    "                      'g_eat','g_sdrm','g_dn','g_hw','g_tp','g_comm','g_et', \\\n",
    "                      'g_clo','g_edu','g_trav','g_med', \\\n",
    "                      'mem_cnt','labor_inc','labor_inc_sum','labor_inc_mem_cnt','total_income']]\n",
    "#                       'mem_cnt','labor_inc','labor_inc_sum','labor_inc_mem_cnt','total_income']].to_csv(\"./chfs2015/final.csv\",index=False)"
   ]
  },
  {
   "cell_type": "markdown",
   "id": "2e329856",
   "metadata": {},
   "source": [
    "# 2017年数据"
   ]
  },
  {
   "cell_type": "code",
   "execution_count": 10,
   "id": "efb99a8b",
   "metadata": {},
   "outputs": [],
   "source": [
    "# #预处理 dta转csv\n",
    "# pd.read_stata(\"./chfs2017/ind.dta\").fillna(0).to_csv(\"./chfs2017/ind.csv\",index=False)\n",
    "# pd.read_stata(\"./chfs2017/hh.dta\").fillna(0).to_csv(\"./chfs2017/hh.csv\",index=False)\n",
    "# pd.read_stata(\"./chfs2017/master.dta\").fillna(0).to_csv(\"./chfs2017/master.csv\",index=False)"
   ]
  },
  {
   "cell_type": "markdown",
   "id": "5106e0f4",
   "metadata": {},
   "source": [
    "## 读取数据"
   ]
  },
  {
   "cell_type": "code",
   "execution_count": 25,
   "id": "904a14ce",
   "metadata": {},
   "outputs": [
    {
     "data": {
      "text/plain": [
       "(127012, 703)"
      ]
     },
     "execution_count": 25,
     "metadata": {},
     "output_type": "execute_result"
    }
   ],
   "source": [
    "chfs[2017]['ind'] = cd.read_csv(\"./chfs2017/ind.csv\").drop(['hhid_2011','hhid_2013','hhid_2015','hhid_2017','track'], axis=1)\n",
    "chfs[2017]['ind'].shape"
   ]
  },
  {
   "cell_type": "code",
   "execution_count": 26,
   "id": "9d6fd4ef",
   "metadata": {},
   "outputs": [
    {
     "data": {
      "text/plain": [
       "(40011, 2527)"
      ]
     },
     "execution_count": 26,
     "metadata": {},
     "output_type": "execute_result"
    }
   ],
   "source": [
    "chfs[2017]['hh'] = cd.read_csv(\"./chfs2017/hh.csv\").drop(['hhid_2011','hhid_2013','hhid_2015','hhid_2017'], axis=1)\n",
    "chfs[2017]['hh'].shape"
   ]
  },
  {
   "cell_type": "code",
   "execution_count": 27,
   "id": "bbc851a2",
   "metadata": {
    "scrolled": true
   },
   "outputs": [
    {
     "data": {
      "text/plain": [
       "(127012, 49)"
      ]
     },
     "execution_count": 27,
     "metadata": {},
     "output_type": "execute_result"
    }
   ],
   "source": [
    "chfs[2017]['m'] = cd.read_csv(\"./chfs2017/master.csv\").drop(['hhid_2011','hhid_2013','hhid_2015','hhid_2017'], axis=1)\n",
    "chfs[2017]['m'].shape"
   ]
  },
  {
   "cell_type": "markdown",
   "id": "88dc1d70",
   "metadata": {},
   "source": [
    "## 拼接三个表"
   ]
  },
  {
   "cell_type": "code",
   "execution_count": 28,
   "id": "91730d80",
   "metadata": {},
   "outputs": [
    {
     "data": {
      "text/plain": [
       "(127012, 3276)"
      ]
     },
     "execution_count": 28,
     "metadata": {},
     "output_type": "execute_result"
    }
   ],
   "source": [
    "chfs[2017]['ind_hh'] = cd.merge(chfs[2017]['ind'], chfs[2017]['hh'], how='left', on='hhid')\n",
    "chfs[2017]['ind_hh'] = cd.merge(chfs[2017]['ind_hh'], chfs[2017]['m'], how='left', on=['hhid','pline'])\n",
    "del chfs[2017]['ind']\n",
    "del chfs[2017]['hh']\n",
    "del chfs[2017]['m']\n",
    "chfs[2017]['ind_hh'].shape"
   ]
  },
  {
   "cell_type": "markdown",
   "id": "b96e0707",
   "metadata": {},
   "source": [
    "## 计算表中未有的参数值"
   ]
  },
  {
   "cell_type": "code",
   "execution_count": 29,
   "id": "1ebd28ed",
   "metadata": {},
   "outputs": [],
   "source": [
    "chfs[2017]['ind_hh'] = chfs[2017]['ind_hh'].assign(age=2017-chfs[2017]['ind_hh'].a2005) #计算age\n",
    "\n",
    "dict_mem_cnt = chfs[2017]['ind_hh'].groupby('hhid').size().to_pandas().to_dict() #计算家庭成员个数\n",
    "chfs[2017]['ind_hh']['mem_cnt'] = chfs[2017]['ind_hh']['hhid'].map(dict_mem_cnt)\n",
    "\n",
    "chfs[2017]['ind_hh']['labor_inc'] = chfs[2017]['ind_hh']['a3136_imp']+chfs[2017]['ind_hh']['a3136a_imp']+chfs[2017]['ind_hh']['a3136b_imp']+chfs[2017]['ind_hh']['a3125_imp']\n",
    "dict_labor_inc = chfs[2017]['ind_hh'].groupby('hhid')['labor_inc'].agg('sum').to_pandas().to_dict() #计算家庭总labor收入\n",
    "chfs[2017]['ind_hh']['labor_inc_sum'] = chfs[2017]['ind_hh']['hhid'].map(dict_labor_inc)\n",
    "\n",
    "dict_labor_inc_mem_cnt = chfs[2017]['ind_hh'].groupby('hhid')['labor_inc'].count().to_pandas().to_dict() #计算家庭有labor收入的人数\n",
    "chfs[2017]['ind_hh']['labor_inc_mem_cnt'] = chfs[2017]['ind_hh']['hhid'].map(dict_labor_inc_mem_cnt)\n",
    "\n",
    "#性别\n",
    "chfs[2017]['ind_hh']['male'] = chfs[2017]['ind_hh']['a2003'].map({1: 1}).fillna(0) #男\n",
    "chfs[2017]['ind_hh']['female'] = chfs[2017]['ind_hh']['a2003'].map({2: 1}).fillna(0) #女\n",
    "\n",
    "#学历\n",
    "chfs[2017]['ind_hh']['el_non'] = chfs[2017]['ind_hh']['a2012'].map({1: 1}).fillna(0) #没上过学\n",
    "chfs[2017]['ind_hh']['el_pri'] = chfs[2017]['ind_hh']['a2012'].map({2: 1}).fillna(0) #小学\n",
    "chfs[2017]['ind_hh']['el_jun'] = chfs[2017]['ind_hh']['a2012'].map({3: 1}).fillna(0) #初中\n",
    "chfs[2017]['ind_hh']['el_sen'] = chfs[2017]['ind_hh']['a2012'].map({4: 1}).fillna(0) #高中\n",
    "chfs[2017]['ind_hh']['el_ts'] = chfs[2017]['ind_hh']['a2012'].map({5: 1}).fillna(0) #中专 \n",
    "chfs[2017]['ind_hh']['el_jc'] = chfs[2017]['ind_hh']['a2012'].map({6: 1}).fillna(0) #大专\n",
    "chfs[2017]['ind_hh']['el_bac'] = chfs[2017]['ind_hh']['a2012'].map({7: 1}).fillna(0) #本科\n",
    "chfs[2017]['ind_hh']['el_mas'] = chfs[2017]['ind_hh']['a2012'].map({8: 1}).fillna(0) #硕士\n",
    "chfs[2017]['ind_hh']['el_phd'] = chfs[2017]['ind_hh']['a2012'].map({9: 1}).fillna(0) #博士\n",
    "\n",
    "#车\n",
    "chfs[2017]['ind_hh']['c_car'] = chfs[2017]['ind_hh']['c7002'].map({0: 0}).fillna(1) #汽车，从c7002数量获取\n",
    "chfs[2017]['ind_hh']['c_car_n'] = chfs[2017]['ind_hh']['c7002'] #汽车数量\n",
    "chfs[2017]['ind_hh']['c_car2'] = chfs[2017]['ind_hh']['c7058_imp'].map({0: 0}).fillna(1) #拖拉机等\n",
    "\n",
    "\n",
    "chfs[2017]['ind_hh']['year'] = 2017"
   ]
  },
  {
   "cell_type": "markdown",
   "id": "ebf1df7b",
   "metadata": {},
   "source": [
    "## 处理数据column成统一可读性列名"
   ]
  },
  {
   "cell_type": "code",
   "execution_count": 30,
   "id": "82793034",
   "metadata": {},
   "outputs": [],
   "source": [
    "#c8001aa: 手机1、电视2、洗衣机3、冰箱4、空调5、电脑6、音响7、热水器8、家具9、卫星接收器10、乐器11、相机12\n",
    "chfs[2017]['ind_hh']['c_cam'] = chfs[2017]['ind_hh']['c8001aa_12_mc'] \n",
    "chfs[2017]['ind_hh']['c_tv'] = chfs[2017]['ind_hh']['c8001aa_2_mc'] \n",
    "chfs[2017]['ind_hh']['c_wm'] = chfs[2017]['ind_hh']['c8001aa_3_mc'] \n",
    "chfs[2017]['ind_hh']['c_ref'] = chfs[2017]['ind_hh']['c8001aa_4_mc'] \n",
    "chfs[2017]['ind_hh']['c_ac'] = chfs[2017]['ind_hh']['c8001aa_5_mc'] \n",
    "chfs[2017]['ind_hh']['c_cp'] = chfs[2017]['ind_hh']['c8001aa_6_mc'] \n",
    "chfs[2017]['ind_hh']['c_aud'] = chfs[2017]['ind_hh']['c8001aa_7_mc'] \n",
    "chfs[2017]['ind_hh']['c_wh'] = chfs[2017]['ind_hh']['c8001aa_8_mc'] \n",
    "chfs[2017]['ind_hh']['c_fur'] = chfs[2017]['ind_hh']['c8001aa_9_mc'] \n",
    "chfs[2017]['ind_hh']['c_sr'] = chfs[2017]['ind_hh']['c8001aa_10_mc'] \n",
    "chfs[2017]['ind_hh']['c_mi'] = chfs[2017]['ind_hh']['c8001aa_11_mc'] \n",
    "chfs[2017]['ind_hh']['c_mobi'] = chfs[2017]['ind_hh']['c8001aa_1_mc'] \n",
    "\n",
    "#c8004_7788_mc: 没有其它资产 c8004_5_mc: 金银首饰\n",
    "chfs[2017]['ind_hh']['c_oa'] = chfs[2017]['ind_hh']['c8004_7788_mc'].map({1: 0}).fillna(1)\n",
    "chfs[2017]['ind_hh']['c_je'] = chfs[2017]['ind_hh']['c8004_5_mc']\n",
    "\n",
    "#吃饭消费：g1001_imp 月*12\n",
    "chfs[2017]['ind_hh']['g_eat'] = chfs[2017]['ind_hh']['g1001_imp']*12\n",
    "#日用品支出：g1006_imp 月*12\n",
    "chfs[2017]['ind_hh']['g_dn'] = chfs[2017]['ind_hh']['g1006_imp']*12\n",
    "#雇佣保姆小时工等支出：g1007_imp 月*12\n",
    "chfs[2017]['ind_hh']['g_hw'] = chfs[2017]['ind_hh']['g1007_imp']*12\n",
    "#本地交通费：g1008_imp 月*12\n",
    "chfs[2017]['ind_hh']['g_tp'] = chfs[2017]['ind_hh']['g1008_imp']*12\n",
    "#电话网络通信费：g1009_imp 月*12\n",
    "chfs[2017]['ind_hh']['g_comm'] = chfs[2017]['ind_hh']['g1009_imp']*12\n",
    "#文化娱乐：g1010_imp 月*12\n",
    "chfs[2017]['ind_hh']['g_et'] = chfs[2017]['ind_hh']['g1010_imp']*12\n",
    "#水电燃气+暖气：g1005_imp 月*12\n",
    "chfs[2017]['ind_hh']['g_sdrm'] = chfs[2017]['ind_hh']['g1005_imp']*12\n",
    "#买衣服：g1011_imp 年\n",
    "chfs[2017]['ind_hh']['g_clo'] = chfs[2017]['ind_hh']['g1011_imp']\n",
    "#教育培训支出：g1016_imp 年\n",
    "chfs[2017]['ind_hh']['g_edu'] = chfs[2017]['ind_hh']['g1016_imp']\n",
    "#旅游探亲支出：g1018_imp 年\n",
    "chfs[2017]['ind_hh']['g_trav'] = chfs[2017]['ind_hh']['g1018_imp']\n",
    "#仅医疗支出：g1019_imp 年\n",
    "chfs[2017]['ind_hh']['g_med'] = chfs[2017]['ind_hh']['g1019_imp']\n",
    "\n",
    "#d1105_imp: 活期存款 d2104_imp: 定期存款\n",
    "chfs[2017]['ind_hh']['d_dd'] = chfs[2017]['ind_hh']['d1105_imp']\n",
    "chfs[2017]['ind_hh']['d_fd'] = chfs[2017]['ind_hh']['d2104_imp']\n",
    "#债券：d4103_(1~5)_imp\n",
    "for i in range(1,6):\n",
    "    chfs[2017]['ind_hh']['d_bond_'+str(i)] = chfs[2017]['ind_hh']['d4103_'+str(i)+'_imp']\n",
    "#债券总\n",
    "chfs[2017]['ind_hh'] = chfs[2017]['ind_hh'].assign(d_bond=chfs[2017]['ind_hh']['d_bond_1']+chfs[2017]['ind_hh']['d_bond_2']+chfs[2017]['ind_hh']['d_bond_3']+chfs[2017]['ind_hh']['d_bond_4']+chfs[2017]['ind_hh']['d_bond_5'])\n",
    "#银行理财/互联网理财：d7106h_imp\n",
    "chfs[2017]['ind_hh']['d_fm'] = chfs[2017]['ind_hh']['d7106h_imp']\n",
    "#黄金/贵金属：d9103_imp\n",
    "chfs[2017]['ind_hh']['d_gold'] = chfs[2017]['ind_hh']['d9103_imp']\n",
    "#现金：k1101_imp\n",
    "chfs[2017]['ind_hh']['d_cash'] = chfs[2017]['ind_hh']['k1101_imp']\n",
    "\n",
    "# chfs[2017]['ind_hh']['total_income'] = chfs[2017]['ind_hh']['total_income'] # 2017直接有这列，无需处理\n",
    "\n",
    "chfs[2017]['ind_hh']['year'] = 2017"
   ]
  },
  {
   "cell_type": "markdown",
   "id": "633c4138",
   "metadata": {},
   "source": [
    "## 输出表"
   ]
  },
  {
   "cell_type": "code",
   "execution_count": 31,
   "id": "d33e7752",
   "metadata": {
    "scrolled": true
   },
   "outputs": [],
   "source": [
    "chfs[2017]['ind_hh'][['hhid','year','age','male','female', \\\n",
    "                      'el_non','el_pri','el_jun','el_sen','el_ts','el_jc','el_bac','el_mas','el_phd', \\\n",
    "                      'c_car','c_car_n','c_car2', \\\n",
    "                      'c_cam','c_tv','c_wm','c_ref','c_ac','c_cp','c_aud','c_wh','c_fur','c_sr','c_mi','c_mobi', \\\n",
    "                      'c_oa','c_je', \\\n",
    "                      'd_dd','d_fd','d_bond','d_fm','d_gold','d_cash', \\\n",
    "                      'g_eat','g_sdrm','g_dn','g_hw','g_tp','g_comm','g_et', \\\n",
    "                      'g_clo','g_edu','g_trav','g_med', \\\n",
    "                      'mem_cnt','labor_inc','labor_inc_sum','labor_inc_mem_cnt','total_income']]\n",
    "#                       'mem_cnt','labor_inc','labor_inc_sum','labor_inc_mem_cnt','total_income']].to_csv(\"./chfs2017/final.csv\",index=False)"
   ]
  },
  {
   "cell_type": "markdown",
   "id": "58bb1c7d",
   "metadata": {},
   "source": [
    "# 2019年数据"
   ]
  },
  {
   "cell_type": "code",
   "execution_count": 11,
   "id": "f46b3204",
   "metadata": {},
   "outputs": [],
   "source": [
    "# #预处理 dta转csv\n",
    "# pd.read_stata(\"./chfs2019/ind.dta\").fillna(0).to_csv(\"./chfs2019/ind.csv\",index=False)\n",
    "# pd.read_stata(\"./chfs2019/hh.dta\").fillna(0).to_csv(\"./chfs2019/hh.csv\",index=False)\n",
    "# pd.read_stata(\"./chfs2019/master.dta\").fillna(0).to_csv(\"./chfs2019/master.csv\",index=False)"
   ]
  },
  {
   "cell_type": "markdown",
   "id": "3715368f",
   "metadata": {},
   "source": [
    "## 读取数据"
   ]
  },
  {
   "cell_type": "code",
   "execution_count": 32,
   "id": "9eb4f9c6",
   "metadata": {},
   "outputs": [
    {
     "data": {
      "text/plain": [
       "(107008, 423)"
      ]
     },
     "execution_count": 32,
     "metadata": {},
     "output_type": "execute_result"
    }
   ],
   "source": [
    "chfs[2019]['ind'] = cd.read_csv(\"./chfs2019/ind.csv\")\n",
    "chfs[2019]['ind'].shape"
   ]
  },
  {
   "cell_type": "code",
   "execution_count": 33,
   "id": "02a41367",
   "metadata": {},
   "outputs": [
    {
     "data": {
      "text/plain": [
       "(34643, 2656)"
      ]
     },
     "execution_count": 33,
     "metadata": {},
     "output_type": "execute_result"
    }
   ],
   "source": [
    "chfs[2019]['hh'] = cd.read_csv(\"./chfs2019/hh.csv\")\n",
    "chfs[2019]['hh'].shape"
   ]
  },
  {
   "cell_type": "code",
   "execution_count": 34,
   "id": "5be07e9c",
   "metadata": {
    "scrolled": true
   },
   "outputs": [
    {
     "data": {
      "text/plain": [
       "(107008, 54)"
      ]
     },
     "execution_count": 34,
     "metadata": {},
     "output_type": "execute_result"
    }
   ],
   "source": [
    "chfs[2019]['m'] = cd.read_csv(\"./chfs2019/master.csv\")\n",
    "chfs[2019]['m'].shape"
   ]
  },
  {
   "cell_type": "markdown",
   "id": "05b997ad",
   "metadata": {},
   "source": [
    "## 拼接三个表"
   ]
  },
  {
   "cell_type": "code",
   "execution_count": 35,
   "id": "5e5666ad",
   "metadata": {},
   "outputs": [
    {
     "data": {
      "text/plain": [
       "(107008, 3130)"
      ]
     },
     "execution_count": 35,
     "metadata": {},
     "output_type": "execute_result"
    }
   ],
   "source": [
    "chfs[2019]['ind_hh'] = cd.merge(chfs[2019]['ind'], chfs[2019]['hh'], how='left', on='hhid')\n",
    "chfs[2019]['ind_hh'] = cd.merge(chfs[2019]['ind_hh'], chfs[2019]['m'], how='left', on=['hhid','pline'])\n",
    "del chfs[2019]['ind']\n",
    "del chfs[2019]['hh']\n",
    "del chfs[2019]['m']\n",
    "chfs[2019]['ind_hh'].shape"
   ]
  },
  {
   "cell_type": "markdown",
   "id": "6dee0d55",
   "metadata": {},
   "source": [
    "## 计算表中未有的参数值"
   ]
  },
  {
   "cell_type": "code",
   "execution_count": 36,
   "id": "319a9415",
   "metadata": {},
   "outputs": [],
   "source": [
    "chfs[2019]['ind_hh'] = chfs[2019]['ind_hh'].assign(age=2019-chfs[2019]['ind_hh'].a2005) #计算age\n",
    "\n",
    "dict_mem_cnt = chfs[2019]['ind_hh'].groupby('hhid').size().to_pandas().to_dict() #计算家庭成员个数\n",
    "chfs[2019]['ind_hh']['mem_cnt'] = chfs[2019]['ind_hh']['hhid'].map(dict_mem_cnt)\n",
    "\n",
    "chfs[2019]['ind_hh']['labor_inc'] = chfs[2019]['ind_hh']['a3136aa_imp']+chfs[2019]['ind_hh']['a3136_imp']+chfs[2019]['ind_hh']['a3136a_imp']+chfs[2019]['ind_hh']['a3136b_imp']+chfs[2019]['ind_hh']['a3171_imp']\n",
    "dict_labor_inc = chfs[2019]['ind_hh'].groupby('hhid')['labor_inc'].agg('sum').to_pandas().to_dict() #计算家庭总labor收入\n",
    "chfs[2019]['ind_hh']['labor_inc_sum'] = chfs[2019]['ind_hh']['hhid'].map(dict_labor_inc)\n",
    "\n",
    "dict_labor_inc_mem_cnt = chfs[2019]['ind_hh'].groupby('hhid')['labor_inc'].count().to_pandas().to_dict() #计算家庭有labor收入的人数\n",
    "chfs[2019]['ind_hh']['labor_inc_mem_cnt'] = chfs[2019]['ind_hh']['hhid'].map(dict_labor_inc_mem_cnt)\n",
    "\n",
    "#性别\n",
    "chfs[2019]['ind_hh']['male'] = chfs[2019]['ind_hh']['a2003'].map({1: 1}).fillna(0) #男\n",
    "chfs[2019]['ind_hh']['female'] = chfs[2019]['ind_hh']['a2003'].map({2: 1}).fillna(0) #女\n",
    "\n",
    "#学历\n",
    "chfs[2019]['ind_hh']['el_non'] = chfs[2019]['ind_hh']['a2012'].map({1: 1}).fillna(0) #没上过学\n",
    "chfs[2019]['ind_hh']['el_pri'] = chfs[2019]['ind_hh']['a2012'].map({2: 1}).fillna(0) #小学\n",
    "chfs[2019]['ind_hh']['el_jun'] = chfs[2019]['ind_hh']['a2012'].map({3: 1}).fillna(0) #初中\n",
    "chfs[2019]['ind_hh']['el_sen'] = chfs[2019]['ind_hh']['a2012'].map({4: 1}).fillna(0) #高中\n",
    "chfs[2019]['ind_hh']['el_ts'] = chfs[2019]['ind_hh']['a2012'].map({5: 1}).fillna(0) #中专 \n",
    "chfs[2019]['ind_hh']['el_jc'] = chfs[2019]['ind_hh']['a2012'].map({6: 1}).fillna(0) #大专\n",
    "chfs[2019]['ind_hh']['el_bac'] = chfs[2019]['ind_hh']['a2012'].map({7: 1}).fillna(0) #本科\n",
    "chfs[2019]['ind_hh']['el_mas'] = chfs[2019]['ind_hh']['a2012'].map({8: 1}).fillna(0) #硕士\n",
    "chfs[2019]['ind_hh']['el_phd'] = chfs[2019]['ind_hh']['a2012'].map({9: 1}).fillna(0) #博士\n",
    "\n",
    "#车\n",
    "chfs[2019]['ind_hh']['c_car'] = chfs[2019]['ind_hh']['c7002'].map({0: 0}).fillna(1) #汽车，从c7002数量获取\n",
    "chfs[2019]['ind_hh']['c_car_n'] = chfs[2019]['ind_hh']['c7002'] #汽车数量\n",
    "chfs[2019]['ind_hh']['c_car2'] = chfs[2019]['ind_hh']['c7058_imp'].map({0: 0}).fillna(1) #拖拉机等\n",
    "\n",
    "\n",
    "chfs[2019]['ind_hh']['year'] = 2019"
   ]
  },
  {
   "cell_type": "markdown",
   "id": "e2239933",
   "metadata": {},
   "source": [
    "## 处理数据column成统一可读性列名"
   ]
  },
  {
   "cell_type": "code",
   "execution_count": 37,
   "id": "d16f0537",
   "metadata": {},
   "outputs": [],
   "source": [
    "#c8001: 手机1、电视2、洗衣机烘干机3、冰箱4、空调5、电脑6、音响12、热水器等厨卫大件19、家具9、卫星接收器7777、高档乐器健身器材11、相机12\n",
    "chfs[2019]['ind_hh']['c_cam'] = chfs[2019]['ind_hh']['c8001ab_12_mc'] \n",
    "chfs[2019]['ind_hh']['c_tv'] = chfs[2019]['ind_hh']['c8001ab_2_mc'] \n",
    "chfs[2019]['ind_hh']['c_wm'] = chfs[2019]['ind_hh']['c8001ab_3_mc'] \n",
    "chfs[2019]['ind_hh']['c_ref'] = chfs[2019]['ind_hh']['c8001ab_4_mc'] \n",
    "chfs[2019]['ind_hh']['c_ac'] = chfs[2019]['ind_hh']['c8001ab_5_mc'] \n",
    "chfs[2019]['ind_hh']['c_cp'] = chfs[2019]['ind_hh']['c8001ab_6_mc'] \n",
    "chfs[2019]['ind_hh']['c_aud'] = chfs[2019]['ind_hh']['c8001ab_12_mc'] \n",
    "chfs[2019]['ind_hh']['c_wh'] = chfs[2019]['ind_hh']['c8001ab_19_mc'] #之前都是热水器，这里是热水器等厨卫大件\n",
    "chfs[2019]['ind_hh']['c_fur'] = chfs[2019]['ind_hh']['c8001ab_9_mc'] \n",
    "chfs[2019]['ind_hh']['c_sr'] = chfs[2019]['ind_hh']['c8001ab_7777_mc'] \n",
    "chfs[2019]['ind_hh']['c_mi'] = chfs[2019]['ind_hh']['c8001ab_11_mc'] \n",
    "chfs[2019]['ind_hh']['c_mobi'] = chfs[2019]['ind_hh']['c8001ab_1_mc'] \n",
    "\n",
    "#c8004a_7788_mc: 没有其它资产 c8004a_1_mc: 金银首饰\n",
    "chfs[2019]['ind_hh']['c_oa'] = chfs[2019]['ind_hh']['c8004a_7788_mc'].map({1: 0}).fillna(1)\n",
    "chfs[2019]['ind_hh']['c_je'] = chfs[2019]['ind_hh']['c8004a_1_mc']\n",
    "\n",
    "#吃饭消费：g1001_imp 月*12\n",
    "chfs[2019]['ind_hh']['g_eat'] = chfs[2019]['ind_hh']['g1001_imp']*12\n",
    "#日用品支出：g1006_imp 月*12\n",
    "chfs[2019]['ind_hh']['g_dn'] = chfs[2019]['ind_hh']['g1006_imp']*12\n",
    "#雇佣保姆小时工等支出：g1007_imp 月*12\n",
    "chfs[2019]['ind_hh']['g_hw'] = chfs[2019]['ind_hh']['g1007_imp']*12\n",
    "#本地交通费：g1008_imp 月*12\n",
    "chfs[2019]['ind_hh']['g_tp'] = chfs[2019]['ind_hh']['g1008_imp']*12\n",
    "#电话网络通信费：g1009_imp 月*12\n",
    "chfs[2019]['ind_hh']['g_comm'] = chfs[2019]['ind_hh']['g1009_imp']*12\n",
    "#文化娱乐：g1010_imp 年\n",
    "chfs[2019]['ind_hh']['g_et'] = chfs[2019]['ind_hh']['g1010_imp'] #2019年问的是年\n",
    "#水电燃气+暖气：g1005_imp 月*12\n",
    "chfs[2019]['ind_hh']['g_sdrm'] = chfs[2019]['ind_hh']['g1005_imp']*12\n",
    "#买衣服：g1011_imp 年\n",
    "chfs[2019]['ind_hh']['g_clo'] = chfs[2019]['ind_hh']['g1011_imp']\n",
    "#教育培训支出：g1016_imp 年\n",
    "chfs[2019]['ind_hh']['g_edu'] = chfs[2019]['ind_hh']['g1016_imp']\n",
    "#旅游探亲支出：g1018_imp 年\n",
    "chfs[2019]['ind_hh']['g_trav'] = chfs[2019]['ind_hh']['g1018_imp']\n",
    "#仅保健支出：g1020b_imp 年\n",
    "chfs[2019]['ind_hh']['g_med'] = chfs[2019]['ind_hh']['g1020b_imp']\n",
    "\n",
    "#d1105_imp: 活期存款 d2104_imp: 定期存款\n",
    "chfs[2019]['ind_hh']['d_dd'] = chfs[2019]['ind_hh']['d1105_imp']\n",
    "chfs[2019]['ind_hh']['d_fd'] = chfs[2019]['ind_hh']['d2104_imp']\n",
    "#债券总：d4103_imp\n",
    "chfs[2019]['ind_hh']['d_bond'] = chfs[2019]['ind_hh']['d4103_imp']\n",
    "#银行理财/互联网理财：d7106hb_imp\n",
    "chfs[2019]['ind_hh']['d_fm'] = chfs[2019]['ind_hh']['d7106hb_imp']\n",
    "#黄金/贵金属：d9103_imp\n",
    "chfs[2019]['ind_hh']['d_gold'] = chfs[2019]['ind_hh']['d9103_imp']\n",
    "#现金：k1101_imp+d7106ha_imp余额宝\n",
    "chfs[2019]['ind_hh']['d_cash'] = chfs[2019]['ind_hh']['k1101_imp']+chfs[2019]['ind_hh']['d7106ha_imp']\n",
    "\n",
    "# chfs[2019]['ind_hh']['total_income'] = chfs[2019]['ind_hh']['total_income'] # 2019直接有这列，无需处理\n",
    "\n",
    "chfs[2019]['ind_hh']['year'] = 2019"
   ]
  },
  {
   "cell_type": "markdown",
   "id": "242df8a0",
   "metadata": {},
   "source": [
    "## 输出表"
   ]
  },
  {
   "cell_type": "code",
   "execution_count": 38,
   "id": "10a2e37b",
   "metadata": {
    "scrolled": false
   },
   "outputs": [],
   "source": [
    "chfs[2019]['ind_hh'][['hhid','year','age','male','female', \\\n",
    "                      'el_non','el_pri','el_jun','el_sen','el_ts','el_jc','el_bac','el_mas','el_phd', \\\n",
    "                      'c_car','c_car_n','c_car2', \\\n",
    "                      'c_cam','c_tv','c_wm','c_ref','c_ac','c_cp','c_aud','c_wh','c_fur','c_sr','c_mi','c_mobi', \\\n",
    "                      'c_oa','c_je', \\\n",
    "                      'd_dd','d_fd','d_bond','d_fm','d_gold','d_cash', \\\n",
    "                      'g_eat','g_sdrm','g_dn','g_hw','g_tp','g_comm','g_et', \\\n",
    "                      'g_clo','g_edu','g_trav','g_med', \\\n",
    "                      'mem_cnt','labor_inc','labor_inc_sum','labor_inc_mem_cnt','total_income']]\n",
    "#                       'mem_cnt','labor_inc','labor_inc_sum','labor_inc_mem_cnt','total_income']].to_csv(\"./chfs2019/final.csv\",index=False)"
   ]
  }
 ],
 "metadata": {
  "kernelspec": {
   "display_name": "Python 3",
   "language": "python",
   "name": "python3"
  },
  "language_info": {
   "codemirror_mode": {
    "name": "ipython",
    "version": 3
   },
   "file_extension": ".py",
   "mimetype": "text/x-python",
   "name": "python",
   "nbconvert_exporter": "python",
   "pygments_lexer": "ipython3",
   "version": "3.10.6"
  },
  "toc": {
   "base_numbering": 1,
   "nav_menu": {},
   "number_sections": true,
   "sideBar": true,
   "skip_h1_title": false,
   "title_cell": "Table of Contents",
   "title_sidebar": "Contents",
   "toc_cell": false,
   "toc_position": {},
   "toc_section_display": true,
   "toc_window_display": false
  },
  "varInspector": {
   "cols": {
    "lenName": 16,
    "lenType": 16,
    "lenVar": 40
   },
   "kernels_config": {
    "python": {
     "delete_cmd_postfix": "",
     "delete_cmd_prefix": "del ",
     "library": "var_list.py",
     "varRefreshCmd": "print(var_dic_list())"
    },
    "r": {
     "delete_cmd_postfix": ") ",
     "delete_cmd_prefix": "rm(",
     "library": "var_list.r",
     "varRefreshCmd": "cat(var_dic_list()) "
    }
   },
   "types_to_exclude": [
    "module",
    "function",
    "builtin_function_or_method",
    "instance",
    "_Feature"
   ],
   "window_display": false
  },
  "vscode": {
   "interpreter": {
    "hash": "2469a70536e4d2335a2ea8907942d0699c37342a371ac185bdb5b0aa6f073890"
   }
  }
 },
 "nbformat": 4,
 "nbformat_minor": 5
}
